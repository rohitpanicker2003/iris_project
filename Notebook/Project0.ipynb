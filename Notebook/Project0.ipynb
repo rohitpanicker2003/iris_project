# %%
import pandas as pd

# %%
df=pd.read_csv("iris.csv")
df.head

# %%
df.info()

# %%
df.isna()

# %%
X = df.drop(labels=['Id', 'Species'], axis=1)
Y = df[['Species']]

# %%
# First try this method

# %%
from sklearn.preprocessing import StandardScaler
scaler = StandardScaler().set_output(transform='pandas')
X_pre = scaler.fit_transform(X)

# %%
import pickle
with open('scaler.pkl','wb') as file1: # wb is for write binary
    pickle.dump(scaler,file1)

# %%
# Check a file is added in notebook as scaler.pkl

# %%
X_pre

# %%
# Divide Training and Testing data

# %%
from sklearn.model_selection import train_test_split

# %%
xtrain,xtest,ytrain,ytest = train_test_split(X_pre,Y,test_size=0.33,random_state=21)

# %%
xtrain.shape

# %%
xtest.shape

# %%
ytest.value_counts()

# %%
# Model Building

# %%
from sklearn.linear_model import LogisticRegression

# %%
model=LogisticRegression()

# %%
model.fit(xtrain,ytrain)

# %%
LogisticRegression()

# %%
# Model Evaluation

# %%
model.score(xtrain,ytrain)

# %%
# Prediction of Training and Testing

# %%
tr_pred=model.predict(xtrain)
ts_pred=model.predict(xtest)

# %%
tr_pred[:5]

# %%
ts_pred[:5]

# %%
from sklearn.metrics import confusion_matrix

# %%
cf=confusion_matrix(tr_pred,ytrain)

# %%
cf

# %%
# above model is good model

# %%
with open('model.pkl','wb') as file1:
    pickle.dump(model,file2)

# %%
# To load any pickle file
with open('model.pkl','rb') as file4: # rb stands for read binary
    m=pickle.load(file4)

# %%
# To save sync this file

# %%
# CLick on source control(ctrl+shift+g) 3rd icon on left

# %%
# In message write notebook completed >> click on commit >> yes >> sync >> ok

# %%



